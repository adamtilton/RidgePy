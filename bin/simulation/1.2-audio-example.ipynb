{
 "cells": [
  {
   "cell_type": "code",
   "execution_count": 1,
   "metadata": {},
   "outputs": [],
   "source": [
    "%load_ext autoreload\n",
    "%autoreload 2"
   ]
  },
  {
   "cell_type": "code",
   "execution_count": 2,
   "metadata": {},
   "outputs": [],
   "source": [
    "\n",
    "import numpy as np\n",
    "import pandas as pd\n",
    "import matplotlib.pyplot as plt\n",
    "\n",
    "# Custom Libs\n",
    "import sys, os\n",
    "sys.path.insert(0, os.path.dirname(os.path.abspath('../')))\n",
    "from ridgepy.kalman_filter_network import KalmanFilterNetwork\n",
    "from ridgepy.kalman_filter_network import KalmanFilterMode"
   ]
  },
  {
   "cell_type": "code",
   "execution_count": 3,
   "metadata": {},
   "outputs": [
    {
     "data": {
      "text/html": [
       "<div>\n",
       "<style scoped>\n",
       "    .dataframe tbody tr th:only-of-type {\n",
       "        vertical-align: middle;\n",
       "    }\n",
       "\n",
       "    .dataframe tbody tr th {\n",
       "        vertical-align: top;\n",
       "    }\n",
       "\n",
       "    .dataframe thead th {\n",
       "        text-align: right;\n",
       "    }\n",
       "</style>\n",
       "<table border=\"1\" class=\"dataframe\">\n",
       "  <thead>\n",
       "    <tr style=\"text-align: right;\">\n",
       "      <th></th>\n",
       "      <th>time</th>\n",
       "      <th>phase</th>\n",
       "      <th>F</th>\n",
       "      <th>A</th>\n",
       "      <th>B</th>\n",
       "      <th>observation</th>\n",
       "    </tr>\n",
       "  </thead>\n",
       "  <tbody>\n",
       "    <tr>\n",
       "      <th>0</th>\n",
       "      <td>0.000000</td>\n",
       "      <td>0.000000</td>\n",
       "      <td>150.0</td>\n",
       "      <td>1.0</td>\n",
       "      <td>0.5</td>\n",
       "      <td>1.000000</td>\n",
       "    </tr>\n",
       "    <tr>\n",
       "      <th>1</th>\n",
       "      <td>0.000063</td>\n",
       "      <td>0.058905</td>\n",
       "      <td>150.0</td>\n",
       "      <td>1.0</td>\n",
       "      <td>0.5</td>\n",
       "      <td>1.027701</td>\n",
       "    </tr>\n",
       "    <tr>\n",
       "      <th>2</th>\n",
       "      <td>0.000125</td>\n",
       "      <td>0.117810</td>\n",
       "      <td>150.0</td>\n",
       "      <td>1.0</td>\n",
       "      <td>0.5</td>\n",
       "      <td>1.051837</td>\n",
       "    </tr>\n",
       "    <tr>\n",
       "      <th>3</th>\n",
       "      <td>0.000188</td>\n",
       "      <td>0.176715</td>\n",
       "      <td>150.0</td>\n",
       "      <td>1.0</td>\n",
       "      <td>0.5</td>\n",
       "      <td>1.072325</td>\n",
       "    </tr>\n",
       "    <tr>\n",
       "      <th>4</th>\n",
       "      <td>0.000250</td>\n",
       "      <td>0.235619</td>\n",
       "      <td>150.0</td>\n",
       "      <td>1.0</td>\n",
       "      <td>0.5</td>\n",
       "      <td>1.089093</td>\n",
       "    </tr>\n",
       "  </tbody>\n",
       "</table>\n",
       "</div>"
      ],
      "text/plain": [
       "       time     phase      F    A    B  observation\n",
       "0  0.000000  0.000000  150.0  1.0  0.5     1.000000\n",
       "1  0.000063  0.058905  150.0  1.0  0.5     1.027701\n",
       "2  0.000125  0.117810  150.0  1.0  0.5     1.051837\n",
       "3  0.000188  0.176715  150.0  1.0  0.5     1.072325\n",
       "4  0.000250  0.235619  150.0  1.0  0.5     1.089093"
      ]
     },
     "execution_count": 3,
     "metadata": {},
     "output_type": "execute_result"
    }
   ],
   "source": [
    "# This example processes the single_mode_example file created by the\n",
    "# bin/simulate/0.0-simulate-single-mode.py file.\n",
    "data_df = pd.read_csv(\"single_mode_example.csv\", sep=\",\", header=0)\n",
    "data_df.head()"
   ]
  },
  {
   "cell_type": "code",
   "execution_count": 4,
   "metadata": {},
   "outputs": [],
   "source": [
    "MODE_COUNT = 6\n",
    "modes = []\n",
    "for mode_number in range(1, MODE_COUNT + 1):\n",
    "    # The signal noise covariance is a 2x2 matrix.\n",
    "    signal_noise_covariance = np.zeros((2,2))\n",
    "    signal_noise_covariance[0][0] = 0.0001\n",
    "    signal_noise_covariance[1][1] = 0.0001\n",
    "\n",
    "    signal_error_covariance = np.zeros((2,2))\n",
    "    signal_error_covariance[0][0] = 1.0\n",
    "    signal_error_covariance[1][1] = 1.0\n",
    "\n",
    "    # The observation noise covariance is a scalar.\n",
    "    observation_noise_covariance = 10.0\n",
    "\n",
    "    # The coefficients are a 2 X 1 matrix.\n",
    "    sin_coefficient = 0.0\n",
    "    cos_coefficient = 0.0\n",
    "\n",
    "    mode = KalmanFilterMode(\n",
    "        mode_number,\n",
    "        sin_coefficient,\n",
    "        cos_coefficient,\n",
    "        signal_error_covariance,\n",
    "        signal_noise_covariance,\n",
    "        observation_noise_covariance\n",
    "    )\n",
    "    modes.append(mode)"
   ]
  },
  {
   "cell_type": "code",
   "execution_count": 5,
   "metadata": {},
   "outputs": [
    {
     "name": "stderr",
     "output_type": "stream",
     "text": [
      "2023-04-23 16:55:30,752 - INFO - None\n"
     ]
    },
    {
     "name": "stdout",
     "output_type": "stream",
     "text": [
      "KalmanFilterNetwork with 6 modes\n"
     ]
    }
   ],
   "source": [
    "kf_network = KalmanFilterNetwork(modes)"
   ]
  },
  {
   "cell_type": "code",
   "execution_count": 6,
   "metadata": {},
   "outputs": [
    {
     "ename": "TypeError",
     "evalue": "KalmanFilterNetwork.prior_update() missing 1 required positional argument: 'phase'",
     "output_type": "error",
     "traceback": [
      "\u001b[0;31m---------------------------------------------------------------------------\u001b[0m",
      "\u001b[0;31mTypeError\u001b[0m                                 Traceback (most recent call last)",
      "Cell \u001b[0;32mIn[6], line 5\u001b[0m\n\u001b[1;32m      1\u001b[0m time_step_data \u001b[39m=\u001b[39m []\n\u001b[1;32m      3\u001b[0m \u001b[39mfor\u001b[39;00m ndx \u001b[39min\u001b[39;00m \u001b[39mrange\u001b[39m(\u001b[39m0\u001b[39m, \u001b[39mlen\u001b[39m(data_df)):\n\u001b[1;32m      4\u001b[0m     \u001b[39m## Update the prior\u001b[39;00m\n\u001b[0;32m----> 5\u001b[0m     kf_network\u001b[39m.\u001b[39mprior_update()\n\u001b[1;32m      7\u001b[0m     \u001b[39m## Update the posterior\u001b[39;00m\n\u001b[1;32m      8\u001b[0m     kf_network\u001b[39m.\u001b[39mposterior_update(data_df\u001b[39m.\u001b[39mat[ndx, \u001b[39m'\u001b[39m\u001b[39mobservation\u001b[39m\u001b[39m'\u001b[39m])\n",
      "\u001b[0;31mTypeError\u001b[0m: KalmanFilterNetwork.prior_update() missing 1 required positional argument: 'phase'"
     ]
    }
   ],
   "source": [
    "time_step_data = []\n",
    "\n",
    "for ndx in range(0, len(data_df)):\n",
    "    ## Update the prior\n",
    "    kf_network.prior_update(data_df.at[ndx, 'phase'])\n",
    "\n",
    "    ## Update the posterior\n",
    "    kf_network.posterior_update(data_df.at[ndx, 'observation'])\n",
    "\n",
    "    ## Change the logging below to use a dictionary\n",
    "    current_parameters = kf_network.current_parameters()\n",
    "\n",
    "    time_step_data.append(current_parameters)\n",
    "\n",
    "results_df = pd.DataFrame(time_step_data)"
   ]
  },
  {
   "cell_type": "code",
   "execution_count": null,
   "metadata": {},
   "outputs": [],
   "source": [
    "results_df.head()"
   ]
  },
  {
   "cell_type": "code",
   "execution_count": null,
   "metadata": {},
   "outputs": [],
   "source": [
    "width  = 12.0\n",
    "height = width / 1.618 / 2."
   ]
  },
  {
   "cell_type": "code",
   "execution_count": null,
   "metadata": {},
   "outputs": [],
   "source": [
    "fig, ax  = plt.subplots(nrows=2, ncols=1, sharex=True, sharey=False, figsize=(width, height))\n",
    "ax[0].plot(data_df['time'], data_df['observation'], linestyle='-', label=r'$Y(t)$')\n",
    "ax[0].plot(data_df['time'], results_df['prediction'], linestyle='-', label=r'$\\hat{h}(t)$')\n",
    "ax[1].plot(data_df['time'], results_df['error'], linestyle='-', label=r'$e(t)$')\n",
    "fig.legend(ncol=3, bbox_to_anchor=(0.5, 0.85))\n",
    "ax[1].set_xlabel('time [seconds]')"
   ]
  },
  {
   "cell_type": "code",
   "execution_count": null,
   "metadata": {},
   "outputs": [],
   "source": [
    "fig, ax  = plt.subplots(nrows=len(modes), ncols=4, sharex=True, sharey=True, figsize=(width, 3*height))\n",
    "cos_coefficients = np.array(results_df['cos_coefficients'].apply(np.array).tolist())\n",
    "sin_coefficients = np.array(results_df['sin_coefficients'].apply(np.array).tolist())\n",
    "convergences = np.array(results_df['convergences'].apply(np.array).tolist())\n",
    "magnitudes = np.array(results_df['magnitudes'].apply(np.array).tolist())\n",
    "for mode_ndx in range(len(modes)):\n",
    "    ax[mode_ndx,0].plot(data_df['time'], sin_coefficients[:,mode_ndx], linestyle='-', label=r'$\\hat{A}^k(t)$')\n",
    "    ax[mode_ndx,1].plot(data_df['time'], cos_coefficients[:,mode_ndx], linestyle='-', label=r'$\\hat{B}^k(t)$')\n",
    "    ax[mode_ndx,2].plot(data_df['time'], convergences[:,mode_ndx], linestyle='-', label=r'$\\hat{r}^k(t)$')\n",
    "    ax[mode_ndx,3].plot(data_df['time'], magnitudes[:,mode_ndx], linestyle='-', label=r'$\\hat{P}^k(t)$')"
   ]
  },
  {
   "cell_type": "code",
   "execution_count": null,
   "metadata": {},
   "outputs": [],
   "source": [
    "fs = 1./(data_df.at[1, 'time'] - data_df.at[0, 'time'])\n",
    "plt.specgram(data_df['observation'], NFFT=256, Fs=fs, cmap='viridis')\n",
    "plt.xlabel('Time (s)')\n",
    "plt.ylabel('Frequency (Hz)')\n",
    "plt.title('Spectrogram')\n",
    "plt.colorbar(label='Power spectral density (dB/Hz)')\n",
    "plt.show()"
   ]
  },
  {
   "cell_type": "code",
   "execution_count": null,
   "metadata": {},
   "outputs": [],
   "source": [
    "\n",
    "fs = data_df.at[1, 'time'] - data_df.at[0, 'time']\n",
    "magnitudes = np.array(results_df['magnitudes'].apply(np.array).tolist())\n",
    "frequencies = np.array(results_df['frequencies'].apply(np.array).tolist())\n",
    "magnitudes_db = np.log10(magnitudes) * 10.0\n",
    "times = data_df['time']\n",
    "print(times.shape, frequencies.shape, magnitudes_db.shape)\n",
    "plt.pcolormesh(times, frequencies, magnitudes_db.T, cmap='viridis')\n",
    "plt.xlabel('Time (s)')\n",
    "plt.ylabel('Frequency (Hz)')\n",
    "plt.title('Spectrogram')\n",
    "plt.colorbar(label='Power spectral density (dB/Hz)')\n",
    "plt.show()"
   ]
  },
  {
   "cell_type": "code",
   "execution_count": null,
   "metadata": {},
   "outputs": [],
   "source": [
    "print(kf_network.frequencies.shape, freqs.shape)\n",
    "print(magnitudes.shape)"
   ]
  },
  {
   "cell_type": "code",
   "execution_count": null,
   "metadata": {},
   "outputs": [],
   "source": []
  },
  {
   "cell_type": "code",
   "execution_count": null,
   "metadata": {},
   "outputs": [],
   "source": []
  }
 ],
 "metadata": {
  "kernelspec": {
   "display_name": "Python 3.10.6 ('env': venv)",
   "language": "python",
   "name": "python3"
  },
  "language_info": {
   "codemirror_mode": {
    "name": "ipython",
    "version": 3
   },
   "file_extension": ".py",
   "mimetype": "text/x-python",
   "name": "python",
   "nbconvert_exporter": "python",
   "pygments_lexer": "ipython3",
   "version": "3.11.3"
  },
  "orig_nbformat": 4,
  "vscode": {
   "interpreter": {
    "hash": "cd7c8cadc4212aa541b2610751100122cafb174b331c153d6e1ac4188a801e26"
   }
  }
 },
 "nbformat": 4,
 "nbformat_minor": 2
}
