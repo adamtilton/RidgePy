{
 "cells": [
  {
   "cell_type": "code",
   "execution_count": null,
   "metadata": {},
   "outputs": [],
   "source": [
    "%load_ext autoreload\n",
    "%autoreload 2"
   ]
  },
  {
   "cell_type": "code",
   "execution_count": null,
   "metadata": {},
   "outputs": [],
   "source": [
    "\n",
    "import numpy as np\n",
    "import pandas as pd\n",
    "import matplotlib.pyplot as plt\n",
    "\n",
    "# Custom Libs\n",
    "import sys, os\n",
    "sys.path.insert(0, os.path.dirname(os.path.abspath('../')))\n",
    "from ridgepy.kalman_filter_network import KalmanFilterNetwork\n",
    "from ridgepy.kalman_filter_network import KalmanFilterMode"
   ]
  },
  {
   "attachments": {},
   "cell_type": "markdown",
   "metadata": {},
   "source": [
    "# Input\n",
    "This is a simple example with a single mode input"
   ]
  },
  {
   "cell_type": "code",
   "execution_count": null,
   "metadata": {},
   "outputs": [],
   "source": [
    "frequency_sample = 16000.0\n",
    "start_time       = 0.0\n",
    "end_time         = 0.2\n",
    "time             = np.arange(start_time, end_time, 1./frequency_sample)\n",
    "\n",
    "F           = 300.0\n",
    "A           = 1.0\n",
    "B           = 0.5\n",
    "phase       = np.mod(2*np.pi*F*time, 2*np.pi)\n",
    "observation = A*np.cos(phase) + B*np.sin(phase)\n",
    "\n",
    "data_df = pd.DataFrame({\n",
    "    'time': time,\n",
    "    'phase': phase,\n",
    "    'observation': observation\n",
    "})\n",
    "\n",
    "data_df.head()"
   ]
  },
  {
   "attachments": {},
   "cell_type": "markdown",
   "metadata": {},
   "source": [
    "# Kalman Filter Network\n",
    "The network is a collection of modes.\n",
    "\n",
    "Each mode has a frequency, a set of coefficients, and a set of covariance\n",
    "matrices.\n",
    "\n",
    "The number of frequencies and their values are the key parameters in the\n",
    "network. In a Discrete Fourier Transform, the frequencies are determined from a\n",
    "linear spacing on teh region [0, Nf/2]. Other strategies include Mel frequency\n",
    "spacing, or whatever else."
   ]
  },
  {
   "cell_type": "code",
   "execution_count": null,
   "metadata": {},
   "outputs": [],
   "source": [
    "# Simple example with frequencies at 50, 100, ..., 500 Hz.\n",
    "frequencies = np.arange(50, 10*50, 50)\n",
    "modes = []\n",
    "for frequency in frequencies:\n",
    "    # The signal noise covariance is a 2x2 matrix.\n",
    "    signal_noise_covariance = np.zeros((2,2))\n",
    "    signal_noise_covariance[0][0] = 0.0001\n",
    "    signal_noise_covariance[1][1] = 0.0001\n",
    "\n",
    "    signal_error_covariance = np.zeros((2,2))\n",
    "    signal_error_covariance[0][0] = 1.0\n",
    "    signal_error_covariance[1][1] = 1.0\n",
    "\n",
    "    # The observation noise covariance is a scalar.\n",
    "    observation_noise_covariance = 10.0\n",
    "\n",
    "    # The coefficients are a 2 X 1 matrix.\n",
    "    sin_coefficient = 0.0\n",
    "    cos_coefficient = 0.0\n",
    "\n",
    "    mode = KalmanFilterMode(\n",
    "        frequency,\n",
    "        sin_coefficient,\n",
    "        cos_coefficient,\n",
    "        signal_error_covariance,\n",
    "        signal_noise_covariance,\n",
    "        observation_noise_covariance\n",
    "    )\n",
    "    modes.append(mode)"
   ]
  },
  {
   "cell_type": "code",
   "execution_count": null,
   "metadata": {},
   "outputs": [],
   "source": [
    "frequency_sample = 16000.\n",
    "kf_network = KalmanFilterNetwork(modes)"
   ]
  },
  {
   "attachments": {},
   "cell_type": "markdown",
   "metadata": {},
   "source": [
    "# Network Updates\n",
    "In the code below, the network update is called recursively on the next\n",
    "observation.  In this example, the sampling frequency of the observations is\n",
    "constant, but that does not need to be true."
   ]
  },
  {
   "cell_type": "code",
   "execution_count": null,
   "metadata": {},
   "outputs": [],
   "source": [
    "time_step_data = []\n",
    "\n",
    "for ndx in range(0, len(data_df)):\n",
    "\n",
    "    ## Update the prior\n",
    "    kf_network.prior_update(frequency_sample)\n",
    "\n",
    "    ## Update the posterior\n",
    "    kf_network.posterior_update(data_df.at[ndx, 'observation'])\n",
    "\n",
    "    ## Change the logging below to use a dictionary\n",
    "    current_parameters = kf_network.current_parameters()\n",
    "\n",
    "    time_step_data.append(current_parameters)\n",
    "\n",
    "results_df = pd.DataFrame(time_step_data)"
   ]
  },
  {
   "cell_type": "code",
   "execution_count": null,
   "metadata": {},
   "outputs": [],
   "source": [
    "results_df.head()"
   ]
  },
  {
   "attachments": {},
   "cell_type": "markdown",
   "metadata": {},
   "source": [
    "# Results\n",
    "The typical solution would be to use a spectrogram. That is shown in the first\n",
    "image below, along with the results from the Kalman Filter Network"
   ]
  },
  {
   "cell_type": "code",
   "execution_count": null,
   "metadata": {},
   "outputs": [],
   "source": [
    "fs = 1./(data_df.at[1, 'time'] - data_df.at[0, 'time'])\n",
    "plt.specgram(data_df['observation'], NFFT=256, Fs=fs, cmap='viridis')\n",
    "plt.xlabel('Time (s)')\n",
    "plt.ylabel('Frequency (Hz)')\n",
    "plt.title('Spectrogram')\n",
    "plt.colorbar(label='Power spectral density (dB/Hz)')\n",
    "plt.show()"
   ]
  },
  {
   "cell_type": "code",
   "execution_count": null,
   "metadata": {},
   "outputs": [],
   "source": [
    "\n",
    "magnitudes = np.array(results_df['magnitudes'].apply(np.array).tolist())\n",
    "magnitudes_db = np.log10(magnitudes) * 20.0\n",
    "\n",
    "frequencies = np.array(results_df['frequencies'].apply(np.array).tolist())\n",
    "times = data_df['time']\n",
    "print(times.shape, frequencies.shape, magnitudes_db.shape)\n",
    "plt.pcolormesh(times, frequencies.T, magnitudes_db.T, cmap='viridis')\n",
    "plt.xlabel('Time (s)')\n",
    "plt.ylabel('Frequency (Hz)')\n",
    "plt.title('Spectrogram')\n",
    "plt.colorbar(label='Power spectral density (dB/Hz)')\n",
    "plt.show()"
   ]
  },
  {
   "cell_type": "code",
   "execution_count": null,
   "metadata": {},
   "outputs": [],
   "source": []
  }
 ],
 "metadata": {
  "kernelspec": {
   "display_name": "Python 3.10.6 ('env': venv)",
   "language": "python",
   "name": "python3"
  },
  "language_info": {
   "codemirror_mode": {
    "name": "ipython",
    "version": 3
   },
   "file_extension": ".py",
   "mimetype": "text/x-python",
   "name": "python",
   "nbconvert_exporter": "python",
   "pygments_lexer": "ipython3",
   "version": "3.11.3"
  },
  "orig_nbformat": 4,
  "vscode": {
   "interpreter": {
    "hash": "cd7c8cadc4212aa541b2610751100122cafb174b331c153d6e1ac4188a801e26"
   }
  }
 },
 "nbformat": 4,
 "nbformat_minor": 2
}
